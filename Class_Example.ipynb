{
 "cells": [
  {
   "cell_type": "markdown",
   "metadata": {
    "colab_type": "text",
    "id": "IWBPfRYwTWnS"
   },
   "source": [
    "## **Import packages**\n"
   ]
  },
  {
   "cell_type": "markdown",
   "metadata": {
    "colab_type": "text",
    "id": "fUULfRi3ekT1"
   },
   "source": [
    "## **Load and visualize MNIST da   t  a**\n"
   ]
  },
  {
   "cell_type": "code",
   "execution_count": 2,
   "metadata": {
    "colab": {
     "base_uri": "https://localhost:8080/",
     "height": 34
    },
    "colab_type": "code",
    "executionInfo": {
     "elapsed": 3255,
     "status": "ok",
     "timestamp": 1570146020432,
     "user": {
      "displayName": "Jovan Brankov",
      "photoUrl": "",
      "userId": "09867479146234862621"
     },
     "user_tz": 300
    },
    "id": "qShZ8_EqTSmH",
    "outputId": "7bbe91fb-7774-4d72-b184-a927cca081fc"
   },
   "outputs": [
    {
     "ename": "ModuleNotFoundError",
     "evalue": "No module named 'keras'",
     "output_type": "error",
     "traceback": [
      "\u001b[1;31m---------------------------------------------------------------------------\u001b[0m",
      "\u001b[1;31mModuleNotFoundError\u001b[0m                       Traceback (most recent call last)",
      "\u001b[1;32m<ipython-input-2-fa55972b242b>\u001b[0m in \u001b[0;36m<module>\u001b[1;34m\u001b[0m\n\u001b[0;32m      1\u001b[0m \u001b[1;32mimport\u001b[0m \u001b[0mnumpy\u001b[0m \u001b[1;32mas\u001b[0m \u001b[0mnp\u001b[0m\u001b[1;33m\u001b[0m\u001b[1;33m\u001b[0m\u001b[0m\n\u001b[0;32m      2\u001b[0m \u001b[1;32mimport\u001b[0m \u001b[0mmatplotlib\u001b[0m\u001b[1;33m.\u001b[0m\u001b[0mpyplot\u001b[0m \u001b[1;32mas\u001b[0m \u001b[0mplt\u001b[0m\u001b[1;33m\u001b[0m\u001b[1;33m\u001b[0m\u001b[0m\n\u001b[1;32m----> 3\u001b[1;33m \u001b[1;32mfrom\u001b[0m \u001b[0mkeras\u001b[0m\u001b[1;33m.\u001b[0m\u001b[0mdatasets\u001b[0m \u001b[1;32mimport\u001b[0m \u001b[0mmnist\u001b[0m\u001b[1;33m\u001b[0m\u001b[1;33m\u001b[0m\u001b[0m\n\u001b[0m\u001b[0;32m      4\u001b[0m \u001b[1;32mfrom\u001b[0m \u001b[0mskimage\u001b[0m \u001b[1;32mimport\u001b[0m \u001b[0mmeasure\u001b[0m\u001b[1;33m\u001b[0m\u001b[1;33m\u001b[0m\u001b[0m\n\u001b[0;32m      5\u001b[0m \u001b[1;33m\u001b[0m\u001b[0m\n",
      "\u001b[1;31mModuleNotFoundError\u001b[0m: No module named 'keras'"
     ]
    }
   ],
   "source": [
    "import numpy as np\n",
    "import matplotlib.pyplot as plt\n",
    "from keras.datasets import mnist\n",
    "from skimage import measure\n",
    "\n",
    "import warnings\n",
    "warnings.filterwarnings(\"ignore\") # Added this at the end to show a clean output with no warnings but not necessary "
   ]
  },
  {
   "cell_type": "markdown",
   "metadata": {
    "colab_type": "text",
    "id": "mN1kDQwef75l"
   },
   "source": [
    "### Choose number to visualize (from 0 to 9):"
   ]
  },
  {
   "cell_type": "code",
   "execution_count": 2,
   "metadata": {
    "colab": {
     "base_uri": "https://localhost:8080/",
     "height": 51
    },
    "colab_type": "code",
    "executionInfo": {
     "elapsed": 2388,
     "status": "ok",
     "timestamp": 1570146027667,
     "user": {
      "displayName": "Jovan Brankov",
      "photoUrl": "",
      "userId": "09867479146234862621"
     },
     "user_tz": 300
    },
    "id": "ItZnPzRGSEik",
    "outputId": "b7375bcd-8e55-4ff7-bce0-dbb937d7ed6d"
   },
   "outputs": [
    {
     "name": "stdout",
     "output_type": "stream",
     "text": [
      "Downloading data from https://s3.amazonaws.com/img-datasets/mnist.npz\n",
      "11493376/11490434 [==============================] - 1s 0us/step\n"
     ]
    }
   ],
   "source": [
    "(x_train, y_train), (x_test, y_test) = mnist.load_data()"
   ]
  },
  {
   "cell_type": "code",
   "execution_count": 17,
   "metadata": {
    "colab": {
     "base_uri": "https://localhost:8080/",
     "height": 85
    },
    "colab_type": "code",
    "executionInfo": {
     "elapsed": 814,
     "status": "ok",
     "timestamp": 1570146392704,
     "user": {
      "displayName": "Jovan Brankov",
      "photoUrl": "",
      "userId": "09867479146234862621"
     },
     "user_tz": 300
    },
    "id": "4pWfhV_6f0jj",
    "outputId": "f8a14f9a-b8fd-4a13-d3e5-218036ff9277"
   },
   "outputs": [
    {
     "name": "stdout",
     "output_type": "stream",
     "text": [
      "The shape of x is:\n",
      "(6742, 28, 28)\n",
      "which means:\n",
      "Number 1 has 6742 images of size 28x28\n"
     ]
    }
   ],
   "source": [
    "number = 1\n",
    "x = x_train[y_train==number,:,:]\n",
    "print('The shape of x is:')\n",
    "print(x.shape)\n",
    "print('which means:')\n",
    "print('Number '+str(number)+' has '+str(x.shape[0])+' images of size '+str(x.shape[1])+'x'+str(x.shape[2]))"
   ]
  },
  {
   "cell_type": "markdown",
   "metadata": {
    "colab_type": "text",
    "id": "kZ07nUPThkjG"
   },
   "source": [
    "### Plot average image:"
   ]
  },
  {
   "cell_type": "code",
   "execution_count": 18,
   "metadata": {
    "colab": {
     "base_uri": "https://localhost:8080/",
     "height": 233
    },
    "colab_type": "code",
    "executionInfo": {
     "elapsed": 1094,
     "status": "ok",
     "timestamp": 1570146394540,
     "user": {
      "displayName": "Jovan Brankov",
      "photoUrl": "",
      "userId": "09867479146234862621"
     },
     "user_tz": 300
    },
    "id": "TJSfHmhTf5ks",
    "outputId": "cab324af-cf5b-45f3-9970-8d366258a7aa"
   },
   "outputs": [
    {
     "data": {
      "text/plain": [
       "Text(0.5, 1.0, 'Thresholded image')"
      ]
     },
     "execution_count": 18,
     "metadata": {
      "tags": []
     },
     "output_type": "execute_result"
    },
    {
     "data": {
      "image/png": "[encoded data removed]",
      "text/plain": [
       "<Figure size 432x288 with 2 Axes>"
      ]
     },
     "metadata": {
      "tags": []
     },
     "output_type": "display_data"
    }
   ],
   "source": [
    "m = np.mean(x, axis=0) # IMPORTANT: indexes in python start at \"0\", not \"1\", so the first element of array \"a\" would be a[0]\n",
    "\n",
    "plt.figure()\n",
    "plt.subplot(1,2,1)\n",
    "plt.imshow(m)\n",
    "plt.title('Average image')\n",
    "\n",
    "mt = 1*(m > 60) # Thresholding\n",
    "plt.subplot(1,2,2)\n",
    "plt.imshow(mt)\n",
    "plt.title('Thresholded image')"
   ]
  },
  {
   "cell_type": "markdown",
   "metadata": {
    "colab_type": "text",
    "id": "YDtNBF8Ajb-A"
   },
   "source": [
    "## From a thresholded image, we can use the regionprops function from skimage.measure"
   ]
  },
  {
   "cell_type": "code",
   "execution_count": 13,
   "metadata": {
    "colab": {
     "base_uri": "https://localhost:8080/",
     "height": 289
    },
    "colab_type": "code",
    "executionInfo": {
     "elapsed": 830,
     "status": "ok",
     "timestamp": 1570146282980,
     "user": {
      "displayName": "Jovan Brankov",
      "photoUrl": "",
      "userId": "09867479146234862621"
     },
     "user_tz": 300
    },
    "id": "9EerbOi7SJjr",
    "outputId": "7c541f1a-1936-49a5-ea0d-9186ca632337"
   },
   "outputs": [
    {
     "name": "stdout",
     "output_type": "stream",
     "text": [
      "1 region/s were found\n",
      "\n",
      "Area (in pixels):\n",
      "209\n",
      "\n",
      "Perimeter (in pixels):\n",
      "75.69848480983498\n",
      "\n",
      "Centroid (pixel coordinates):\n",
      "(13.894736842105264, 14.210526315789474)\n",
      "Eccentricity:\n",
      "0.714594264891699\n",
      "\n",
      "Minor axis length:\n",
      "16.016448790601434\n",
      "\n"
     ]
    }
   ],
   "source": [
    "mt_props = measure.regionprops(mt)\n",
    "num_regions = len(mt_props)\n",
    "print(str(num_regions)+' region/s were found')\n",
    "print('')\n",
    "\n",
    "print('Area (in pixels):')\n",
    "area = mt_props[0].area # Remember, index 0 is the first region found\n",
    "print(area)\n",
    "print('')\n",
    "\n",
    "print('Perimeter (in pixels):')\n",
    "perimeter = mt_props[0].perimeter\n",
    "print(perimeter)\n",
    "print('')\n",
    "\n",
    "print('Centroid (pixel coordinates):')\n",
    "centroid = mt_props[0].centroid\n",
    "print(centroid)\n",
    "\n",
    "print('Eccentricity:')\n",
    "eccentricity = mt_props[0].eccentricity\n",
    "print(eccentricity)\n",
    "print('')\n",
    "\n",
    "print('Minor axis length:')\n",
    "minor_axis = mt_props[0].minor_axis_length\n",
    "print(minor_axis)\n",
    "print('')\n",
    "\n"
   ]
  },
  {
   "cell_type": "markdown",
   "metadata": {
    "colab_type": "text",
    "id": "u_uGTN0apz4t"
   },
   "source": [
    "## Example: Scatter plot of Area vs Perimeter for all images of numbers \"5\" and \"6\"\n",
    "### Are \"Area\" and \"Perimeter\" good features to classify \"5\" and \"6\"?"
   ]
  },
  {
   "cell_type": "code",
   "execution_count": 19,
   "metadata": {
    "colab": {
     "base_uri": "https://localhost:8080/",
     "height": 353
    },
    "colab_type": "code",
    "executionInfo": {
     "elapsed": 3046,
     "status": "ok",
     "timestamp": 1570146409440,
     "user": {
      "displayName": "Jovan Brankov",
      "photoUrl": "",
      "userId": "09867479146234862621"
     },
     "user_tz": 300
    },
    "id": "JLRFfzL3k7Tm",
    "outputId": "d0df8585-2e20-4b9c-c264-922d5b549243"
   },
   "outputs": [
    {
     "data": {
      "text/plain": [
       "<matplotlib.legend.Legend at 0x7f1730701978>"
      ]
     },
     "execution_count": 19,
     "metadata": {
      "tags": []
     },
     "output_type": "execute_result"
    },
    {
     "data": {
      "image/png": "[encoded data removed]",
      "text/plain": [
       "<Figure size 1440x360 with 2 Axes>"
      ]
     },
     "metadata": {
      "tags": []
     },
     "output_type": "display_data"
    }
   ],
   "source": [
    "x5 = x_train[y_train==9,:,:]\n",
    "x6 = x_train[y_train==6,:,:]\n",
    "\n",
    "# Threshold images\n",
    "t5 = 1*(x5 > 60)\n",
    "t6 = 1*(x6 > 60)\n",
    "\n",
    "# Region properties\n",
    "area5 = np.zeros(t5.shape[0])\n",
    "perimeter5 = np.zeros(t5.shape[0])\n",
    "for i in range(0,t5.shape[0]):\n",
    "  props = measure.regionprops(t5[i,:,:])\n",
    "  area5[i] = props[0].area\n",
    "  perimeter5[i] = props[0].perimeter\n",
    "  \n",
    "area6 = np.zeros(t6.shape[0])\n",
    "perimeter6 = np.zeros(t6.shape[0])\n",
    "for i in range(0,t6.shape[0]):\n",
    "  props = measure.regionprops(t6[i,:,:])\n",
    "  area6[i] = props[0].area\n",
    "  perimeter6[i] = props[0].perimeter\n",
    "  \n",
    "plt.figure(figsize=(20,5))\n",
    "plt.subplot(1,2,1)\n",
    "plt.scatter(area5,perimeter5, label='Number 5')\n",
    "plt.scatter(area6,perimeter6, label='Number 6')\n",
    "plt.title('All images for both classes')\n",
    "plt.legend()\n",
    "\n",
    "plt.subplot(1,2,2)\n",
    "plt.scatter(area5[0:100],perimeter5[0:100], label='Number 5')\n",
    "plt.scatter(area6[0:100],perimeter6[0:100], label='Number 6')\n",
    "plt.title('100 images of each class')\n",
    "plt.legend()"
   ]
  },
  {
   "cell_type": "code",
   "execution_count": 2,
   "metadata": {},
   "outputs": [
    {
     "name": "stdout",
     "output_type": "stream",
     "text": [
      "Collecting keras-datasets\n",
      "  Downloading https://files.pythonhosted.org/packages/07/20/9ed10cd3247cc29c362c77c52d820928ab4f955b7e1ba9e77a288b4c5f3c/keras_datasets-0.1.0-py2.py3-none-any.whl\n",
      "Installing collected packages: keras-datasets\n",
      "Successfully installed keras-datasets-0.1.0\n",
      "Note: you may need to restart the kernel to use updated packages.\n"
     ]
    }
   ],
   "source": [
    "pip install keras-datasets"
   ]
  }
 ],
 "metadata": {
  "colab": {
   "collapsed_sections": [],
   "name": "Example.ipynb",
   "provenance": [],
   "toc_visible": true
  },
  "kernelspec": {
   "display_name": "Python 3",
   "language": "python",
   "name": "python3"
  },
  "language_info": {
   "codemirror_mode": {
    "name": "ipython",
    "version": 3
   },
   "file_extension": ".py",
   "mimetype": "text/x-python",
   "name": "python",
   "nbconvert_exporter": "python",
   "pygments_lexer": "ipython3",
   "version": "3.7.3"
  }
 },
 "nbformat": 4,
 "nbformat_minor": 1
}
